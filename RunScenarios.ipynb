{
 "cells": [
  {
   "cell_type": "markdown",
   "metadata": {},
   "source": [
    "# Run Scenarios\n",
    "\n",
    "Copyright 2020, Thabor WALBEEK\n",
    "\n",
    "This notebook includes the detailed run, as described in the Master dissertation (from Chapter 4: Research Methodology). It processes all the data files, extracts the information and preprares the data for further processing in the Modeling Phase (see Notebook: xxxx)"
   ]
  },
  {
   "cell_type": "markdown",
   "metadata": {},
   "source": [
    "## Set parameters for the scenarios\n",
    "\n",
    "The master dissertation includes 10 different scenarios with settings as follows:"
   ]
  },
  {
   "cell_type": "code",
   "execution_count": 16,
   "metadata": {},
   "outputs": [
    {
     "data": {
      "text/html": [
       "<div>\n",
       "<style scoped>\n",
       "    .dataframe tbody tr th:only-of-type {\n",
       "        vertical-align: middle;\n",
       "    }\n",
       "\n",
       "    .dataframe tbody tr th {\n",
       "        vertical-align: top;\n",
       "    }\n",
       "\n",
       "    .dataframe thead th {\n",
       "        text-align: right;\n",
       "    }\n",
       "</style>\n",
       "<table border=\"1\" class=\"dataframe\">\n",
       "  <thead>\n",
       "    <tr style=\"text-align: right;\">\n",
       "      <th></th>\n",
       "      <th>min</th>\n",
       "      <th>max</th>\n",
       "    </tr>\n",
       "  </thead>\n",
       "  <tbody>\n",
       "    <tr>\n",
       "      <th>1</th>\n",
       "      <td>0.2</td>\n",
       "      <td>0.8</td>\n",
       "    </tr>\n",
       "    <tr>\n",
       "      <th>2</th>\n",
       "      <td>0.4</td>\n",
       "      <td>0.9</td>\n",
       "    </tr>\n",
       "    <tr>\n",
       "      <th>3</th>\n",
       "      <td>0.5</td>\n",
       "      <td>1.0</td>\n",
       "    </tr>\n",
       "    <tr>\n",
       "      <th>4</th>\n",
       "      <td>0.6</td>\n",
       "      <td>1.1</td>\n",
       "    </tr>\n",
       "    <tr>\n",
       "      <th>5</th>\n",
       "      <td>0.8</td>\n",
       "      <td>1.2</td>\n",
       "    </tr>\n",
       "    <tr>\n",
       "      <th>6</th>\n",
       "      <td>0.9</td>\n",
       "      <td>1.3</td>\n",
       "    </tr>\n",
       "    <tr>\n",
       "      <th>7</th>\n",
       "      <td>1.0</td>\n",
       "      <td>1.5</td>\n",
       "    </tr>\n",
       "    <tr>\n",
       "      <th>8</th>\n",
       "      <td>1.1</td>\n",
       "      <td>1.7</td>\n",
       "    </tr>\n",
       "    <tr>\n",
       "      <th>9</th>\n",
       "      <td>1.2</td>\n",
       "      <td>1.9</td>\n",
       "    </tr>\n",
       "    <tr>\n",
       "      <th>10</th>\n",
       "      <td>0.2</td>\n",
       "      <td>1.9</td>\n",
       "    </tr>\n",
       "  </tbody>\n",
       "</table>\n",
       "</div>"
      ],
      "text/plain": [
       "    min  max\n",
       "1   0.2  0.8\n",
       "2   0.4  0.9\n",
       "3   0.5  1.0\n",
       "4   0.6  1.1\n",
       "5   0.8  1.2\n",
       "6   0.9  1.3\n",
       "7   1.0  1.5\n",
       "8   1.1  1.7\n",
       "9   1.2  1.9\n",
       "10  0.2  1.9"
      ]
     },
     "execution_count": 16,
     "metadata": {},
     "output_type": "execute_result"
    }
   ],
   "source": [
    "import pandas as pd\n",
    "\n",
    "scen_settings = pd.DataFrame({'min': [0.2,0.4,0.5,0.6,0.8,0.9,1.0,1.1,1.2,0.2], \n",
    "                              'max': [0.8,0.9,1.0,1.1,1.2,1.3,1.5,1.7,1.9,1.9]},\n",
    "                              index=[1, 2, 3,4,5,6,7,8,9, 10])\n",
    "\n",
    "scen_settings"
   ]
  },
  {
   "cell_type": "markdown",
   "metadata": {},
   "source": [
    "## Create the project"
   ]
  },
  {
   "cell_type": "code",
   "execution_count": null,
   "metadata": {},
   "outputs": [],
   "source": [
    "metricinput = actDur\n",
    "\n",
    "# Create dummy values for 'Cost Value' and 'Avg Cost'\n",
    "metricinput['Cost Value'] = round(Decimal(0),5)\n",
    "metricinput['Avg Cost'] = round(Decimal(0),5)\n",
    "\n",
    "# Assign cost values as a new column to metrics for all activities except the dummy-variables\n",
    "for i in range(1,nbAct-1,1):\n",
    "        # Set the min and max value to calculate the random number\n",
    "        minvalue = round(Decimal(50),5)\n",
    "        maxvalue = round(Decimal(250),5)\n",
    "        randomNumb = random.randint(minvalue,maxvalue)\n",
    "        randomNumb = round(Decimal(randomNumb),5)\n",
    "        # Assign the random number to the column 'Cost Value'\n",
    "        metricinput.loc[i,'Cost Value'] = randomNumb\n",
    "        costvalue = metricinput.loc[i,'Cost Value']\n",
    "        # Get the activity duration\n",
    "        activityDur = float(metricinput.loc[i,'Activity Duration'])\n",
    "        activityDur = round(Decimal(activityDur),5)\n",
    "        # Assign the 'Avg cost' value as the planned Cost value divided by the planned Activity duration\n",
    "        metricinput.loc[i,'Avg Cost'] = round(costvalue / activityDur,5)"
   ]
  },
  {
   "cell_type": "markdown",
   "metadata": {},
   "source": [
    "### Create Function to calculate the real duration"
   ]
  },
  {
   "cell_type": "code",
   "execution_count": 2,
   "metadata": {},
   "outputs": [],
   "source": [
    "def GetRealDuration(duration):\n",
    "    global RealDuration, cumdistr_step1,cumdistr_step2,cumdistr_step3,cumdistr_step4,cumdistr_step5\n",
    "    \n",
    "    minvalue = scen_settings.loc[run][0]\n",
    "    maxvalue = scen_settings.loc[run][1]\n",
    "    \n",
    "    minimum = duration * int(minvalue)\n",
    "    maximum = duration * int(maxvalue)\n",
    "    \n",
    "    step1 = int(minimum)\n",
    "    step2 = int(minimum + ((maximum-minimum)/4))\n",
    "    step3 = int(step2 + ((maximum-minimum)/4))\n",
    "    step4 = int(step3 + ((maximum-minimum)/4))\n",
    "    step5 = int(maximum)\n",
    "\n",
    "    bracket1 = 0.1\n",
    "    bracket2 = 0.2\n",
    "    bracket3 = 0.5\n",
    "    bracket4 = 0.75\n",
    "    \n",
    "    cumdistr_lst = []\n",
    "    for x in range(1,1001,1):\n",
    "        randomNumb = random.randint(0,100)/100\n",
    "        if randomNumb < bracket1:\n",
    "            cumdistr_lst.append(step1)\n",
    "        elif randomNumb < bracket2:\n",
    "            cumdistr_lst.append(step2)\n",
    "        elif randomNumb < bracket3:\n",
    "            cumdistr_lst.append(step3)\n",
    "        elif randomNumb < bracket4:\n",
    "            cumdistr_lst.append(step4)\n",
    "        else:\n",
    "            cumdistr_lst.append(step5)\n",
    "    \n",
    "    cumdistr_lst = pd.DataFrame(cumdistr_lst)\n",
    "    cumdistr_lst.columns = ['Duration']\n",
    "    cumdistr_step1 = round((int(cumdistr_lst[cumdistr_lst.Duration == step1].count())/1000) * 100, 2)\n",
    "    cumdistr_step2 = round((int(cumdistr_lst[cumdistr_lst.Duration == step2].count())/1000) * 100, 2)\n",
    "    cumdistr_step3 = round((int(cumdistr_lst[cumdistr_lst.Duration == step3].count())/1000) * 100, 2)\n",
    "    cumdistr_step4 = round((int(cumdistr_lst[cumdistr_lst.Duration == step4].count())/1000) * 100, 2)\n",
    "    cumdistr_step5 = round((int(cumdistr_lst[cumdistr_lst.Duration == step5].count())/1000) * 100, 2)\n",
    "    cumdistr = (cumdistr_step1, \n",
    "                cumdistr_step1 + cumdistr_step2, \n",
    "                cumdistr_step1 + cumdistr_step2 + cumdistr_step3, \n",
    "                cumdistr_step1 + cumdistr_step2 + cumdistr_step3 + cumdistr_step4, \n",
    "                cumdistr_step1 + cumdistr_step2 + cumdistr_step3 + cumdistr_step4 + cumdistr_step5)\n",
    "    \n",
    "    randomNumb = random.randint(0,100)\n",
    "    RealDuration = 0\n",
    "    if randomNumb > cumdistr_step1:\n",
    "        if randomNumb > cumdistr_step2:\n",
    "            if randomNumb > cumdistr_step3:\n",
    "                if randomNumb > cumdistr_step4:\n",
    "                    RealDuration = step4\n",
    "                else:\n",
    "                    RealDuration = step5\n",
    "            else:\n",
    "                RealDuration = step3\n",
    "        else:\n",
    "            RealDuration = step2\n",
    "    else:\n",
    "        RealDuration = step1\n",
    "    \n",
    "    if RealDuration == 0:\n",
    "        RealDuration = 1\n",
    "        \n",
    "    return RealDuration      "
   ]
  },
  {
   "cell_type": "markdown",
   "metadata": {},
   "source": [
    "### Create the real durations"
   ]
  },
  {
   "cell_type": "code",
   "execution_count": null,
   "metadata": {},
   "outputs": [],
   "source": [
    "# Create 3 new columns in the metricinput dataframe for the Real values\n",
    "metricinput['Real Duration'] = Decimal(0.000)\n",
    "metricinput['Real Cost'] = Decimal(0.000)\n",
    "metricinput['Avg Real Cost'] = Decimal(0.000)\n",
    "\n",
    "# For each activity define the 3 new values and add them to the dataframe\n",
    "for i in range(1,nbAct-1,1):\n",
    "    # Get the Planned Duration\n",
    "    duration = metricinput.loc[i,'Activity Duration']\n",
    "    # Run the function GetRealDuration, and use Planned Duration as input value\n",
    "    metricinput.loc[i,'Real Duration'] = GetRealDuration(duration)\n",
    "    # Get the Planned Cost Value\n",
    "    costvalue = Decimal(metricinput.loc[i,'Cost Value'])\n",
    "    # Convert the Real Duration value to a decimal and add a small portion to avoid division by zero\n",
    "    realdurvalue = Decimal(metricinput.loc[i,'Real Duration'])+Decimal(0.000000001)\n",
    "    # Get the Planned Duration\n",
    "    actdurvalue = float(duration)\n",
    "    actdurvalue = round(Decimal(actdurvalue),5)\n",
    "    # Get the Planned Average Cost\n",
    "    avgcostvalue = Decimal(metricinput.loc[i,'Avg Cost'])\n",
    "    # Calculate the Real Cost and Avg Real Cost and add this to the dataframe\n",
    "    metricinput.loc[i,'Real Cost'] = round(costvalue + ((realdurvalue - actdurvalue) * avgcostvalue),5)\n",
    "    metricinput.loc[i,'Avg Real Cost'] = round(costvalue / realdurvalue,5)\n",
    "    \n",
    "metricinput"
   ]
  },
  {
   "cell_type": "markdown",
   "metadata": {},
   "source": [
    "### Create new Gantt chart based on the real durations"
   ]
  },
  {
   "cell_type": "code",
   "execution_count": null,
   "metadata": {},
   "outputs": [],
   "source": [
    "longest_path_real = 0"
   ]
  },
  {
   "cell_type": "code",
   "execution_count": null,
   "metadata": {},
   "outputs": [],
   "source": [
    "def calculateLongestPathReal(act_index_new, current_length_new):\n",
    "        global longest_path_real\n",
    "        realduration = metricinput.loc[act_index_new,'Real Duration']\n",
    "        pathlength_new = current_length_new + realduration\n",
    "        actualSuc = nbSuc.loc[act_index_new]['Number of Successors']\n",
    "\n",
    "        if  actualSuc == 0:\n",
    "            return pathlength_new\n",
    "        \n",
    "        else:\n",
    "            \n",
    "            for s in range(0,actualSuc,1):\n",
    "\n",
    "                actualSucpath_new = actSuc.loc[act_index_new][s]\n",
    "                \n",
    "                if actualSucpath_new != -1:\n",
    "                \n",
    "                    path_new = calculateLongestPathReal(actualSucpath_new,pathlength_new)\n",
    "          \n",
    "                    longest_path_real = max(path_new, longest_path_real)\n",
    "    \n",
    "            return longest_path_real"
   ]
  },
  {
   "cell_type": "code",
   "execution_count": null,
   "metadata": {},
   "outputs": [],
   "source": [
    "calculateLongestPathReal(0,0)\n",
    "ev_longestpath = calculateLongestPathReal(0,0)"
   ]
  },
  {
   "cell_type": "markdown",
   "metadata": {},
   "source": [
    "### Create the corrected Gantt Chart"
   ]
  },
  {
   "cell_type": "code",
   "execution_count": null,
   "metadata": {},
   "outputs": [],
   "source": [
    "maxlongestpath = max(int(longest_path), int(longest_path_real))\n",
    "maxlongestpath = int(maxlongestpath)\n",
    "dev_longestpath = longest_path - longest_path_real\n",
    "dev_longestpath = int(dev_longestpath)\n",
    "\n",
    "# Make sure the already created ganttchart gets more columns in case the real duration is longer\n",
    "if dev_longestpath < 0:\n",
    "    dev_longestpath = abs(dev_longestpath)\n",
    "    for j in range(0,dev_longestpath,1):\n",
    "        columnName = int(longest_path + (j+1))\n",
    "        ganttchart.insert(columnName, columnName, 0)\n",
    "\n",
    "ganttchart = ganttchart.astype(float)\n",
    "ganttchart"
   ]
  },
  {
   "cell_type": "markdown",
   "metadata": {},
   "source": [
    "### Create Gantt based on Real Values"
   ]
  },
  {
   "cell_type": "code",
   "execution_count": null,
   "metadata": {},
   "outputs": [],
   "source": [
    "height_new = int(nbAct)\n",
    "width_new = int(maxlongestpath+1)\n",
    "gantt_real = pd.DataFrame(0, index=range(height_new), columns=range(width_new))\n",
    "\n",
    "metricinput['Real Start'] = 1\n",
    "metricinput['Real End'] = 0 + metricinput['Real Duration']\n",
    "\n",
    "collength_new = len(actPrePivot.columns)\n",
    "\n",
    "for i in range(0,nbAct,1):\n",
    "    for j in range(1,collength_new,1):\n",
    "        if actPrePivot.loc[i][j] == 0:\n",
    "            metricinput.loc[i,'Real Start'] = 1\n",
    "            metricinput.loc[i,'Real End'] = 0 + metricinput.loc[i,'Real Duration']\n",
    "\n",
    "        elif actPrePivot.loc[i][j] > 0:\n",
    "            # Set the predecessor value to 'value'\n",
    "            value_new = actPrePivot.loc[i][j] # = predecessor\n",
    "            endvalue_new = metricinput.loc[value_new]['Real End']\n",
    "            metricinput.loc[i,'Real Start'] = endvalue_new + 1\n",
    "            metricinput.loc[i,'Real End'] = endvalue_new + metricinput.loc[i,'Real Duration']\n",
    "            \n",
    "for i in range(0,nbAct,1):\n",
    "    for j in range(0,width_new,1):\n",
    "        startValue_new = metricinput.loc[i,'Real Start']\n",
    "        endValue_new = metricinput.loc[i,'Real End']\n",
    "        if j >= startValue_new and j <= endValue_new:\n",
    "            gantt_real.loc[i][j] = 1"
   ]
  },
  {
   "cell_type": "code",
   "execution_count": null,
   "metadata": {},
   "outputs": [],
   "source": [
    "gantt_real = gantt_real.astype(float)\n",
    "gantt_real"
   ]
  },
  {
   "cell_type": "markdown",
   "metadata": {},
   "source": [
    "### Create Planned Cost Gantt Chart"
   ]
  },
  {
   "cell_type": "code",
   "execution_count": null,
   "metadata": {},
   "outputs": [],
   "source": [
    "height_planned = int(nbAct)\n",
    "width_planned = int(maxlongestpath+1)\n",
    "gantt_planned = pd.DataFrame(float(0), index=range(height_planned), columns=range(width_planned))\n",
    "\n",
    "for i in range(0,nbAct,1):\n",
    "    for j in range(1,width_planned,1):\n",
    "        ganttchartvalue = ganttchart.loc[i][j]\n",
    "        ganttchartvalue = round(float(ganttchartvalue),5)\n",
    "        \n",
    "        prevganttchartvalue = gantt_planned.loc[i][j-1]\n",
    "        prevganttchartvalue = round(float(prevganttchartvalue),5)\n",
    "        \n",
    "        avgcostvalue = metricinput.loc[i]['Avg Cost']\n",
    "        avgcostvalue = round(float(avgcostvalue),5)\n",
    "        \n",
    "        calcValue = prevganttchartvalue + ( avgcostvalue * ganttchartvalue)\n",
    "        calcValue = round(float(calcValue),5)\n",
    "        \n",
    "        gantt_planned.loc[i][j] = float(calcValue)\n",
    "        \n",
    "sum_row = {col: gantt_planned[col].sum() for col in gantt_planned}\n",
    "# Turn the sums into a DataFrame with one row with an index of 'Total':\n",
    "sum_df = pd.DataFrame(sum_row, index=[\"Total PV\"])\n",
    "# Now append the row:\n",
    "gantt_planned = gantt_planned.append(sum_df)"
   ]
  },
  {
   "cell_type": "code",
   "execution_count": null,
   "metadata": {},
   "outputs": [],
   "source": [
    "gantt_planned = gantt_planned.astype(float)\n",
    "gantt_planned"
   ]
  },
  {
   "cell_type": "markdown",
   "metadata": {},
   "source": [
    "### Create Real Cost Gantt Chart"
   ]
  },
  {
   "cell_type": "code",
   "execution_count": null,
   "metadata": {},
   "outputs": [],
   "source": [
    "height_realcost = int(nbAct)\n",
    "width_realcost = int(maxlongestpath+1)\n",
    "\n",
    "gantt_realcost = pd.DataFrame(float(0), index=range(height_realcost), columns=range(width_realcost))\n",
    "\n",
    "for i in range(0,nbAct,1):\n",
    "    for j in range(1,width_realcost,1):\n",
    "        ganttchartvalue = gantt_real.loc[i][j]\n",
    "        ganttchartvalue = round(float(ganttchartvalue),5)\n",
    "        \n",
    "        prevganttchartvalue = gantt_realcost.loc[i][j-1]\n",
    "        prevganttchartvalue = round(float(prevganttchartvalue),5)\n",
    "       \n",
    "        avgcostvalue = metricinput.loc[i]['Avg Cost']\n",
    "        avgcostvalue = round(float(avgcostvalue),5)\n",
    "\n",
    "        calcValue = prevganttchartvalue + ( avgcostvalue * ganttchartvalue)\n",
    "        calcValue = round(float(calcValue),5)\n",
    "        \n",
    "        gantt_realcost.loc[i][j] = float(calcValue)\n",
    "\n",
    "sum_row = {col: gantt_realcost[col].sum() for col in gantt_realcost}\n",
    "# Turn the sums into a DataFrame with one row with an index of 'Total':\n",
    "sum_df = pd.DataFrame(sum_row, index=[\"Total AC\"])\n",
    "# Now append the row:\n",
    "gantt_realcost = gantt_realcost.append(sum_df)"
   ]
  },
  {
   "cell_type": "code",
   "execution_count": null,
   "metadata": {},
   "outputs": [],
   "source": [
    "gantt_realcost"
   ]
  },
  {
   "cell_type": "markdown",
   "metadata": {},
   "source": [
    "### Create EV Gantt Chart"
   ]
  },
  {
   "cell_type": "code",
   "execution_count": null,
   "metadata": {},
   "outputs": [],
   "source": [
    "height_ev = int(nbAct)\n",
    "width_ev = int(maxlongestpath+1)\n",
    "\n",
    "gantt_ev = pd.DataFrame(float(0), index=range(height_ev), columns=range(width_ev))\n",
    "\n",
    "for i in range(0,nbAct,1):\n",
    "    for j in range(1,width_ev,1):\n",
    "        ganttchartvalue = gantt_real.loc[i][j]\n",
    "        ganttchartvalue = round(float(ganttchartvalue),5)\n",
    "            \n",
    "        prevganttchartvalue = gantt_ev.loc[i][j-1]\n",
    "        prevganttchartvalue = round(float(prevganttchartvalue),5)\n",
    "               \n",
    "        costvalue = metricinput.loc[i]['Cost Value']\n",
    "        costvalue = round(float(costvalue),5)\n",
    "        \n",
    "        realdurvalue = metricinput.loc[i,'Real Duration']\n",
    "        realdurvalue = round(float(realdurvalue),5)\n",
    "        realdurvalue = realdurvalue + 0.0000000001\n",
    "        \n",
    "        avgcostvalue = float(costvalue) / float(realdurvalue)\n",
    "        \n",
    "        calcValue = prevganttchartvalue + ( avgcostvalue * ganttchartvalue)\n",
    "        calcValue = round(float(calcValue),5)\n",
    "        \n",
    "        gantt_ev.loc[i][j] = float(calcValue)\n",
    "        \n",
    "sum_row = {col: gantt_ev[col].sum() for col in gantt_ev}\n",
    "# Turn the sums into a DataFrame with one row with an index of 'Total':\n",
    "sum_df = pd.DataFrame(sum_row, index=[\"Total EV\"])\n",
    "# Now append the row:\n",
    "gantt_ev = gantt_ev.append(sum_df)"
   ]
  },
  {
   "cell_type": "code",
   "execution_count": null,
   "metadata": {},
   "outputs": [],
   "source": [
    "gantt_ev"
   ]
  },
  {
   "cell_type": "markdown",
   "metadata": {},
   "source": [
    "### Create project metrics"
   ]
  },
  {
   "cell_type": "code",
   "execution_count": null,
   "metadata": {},
   "outputs": [],
   "source": [
    "project_metric = pd.DataFrame()\n",
    "PV = gantt_planned.iloc[[32]]\n",
    "EV = gantt_ev.iloc[[32]]\n",
    "AC = gantt_realcost.iloc[[32]]\n",
    "project_metric = project_metric.append(PV)\n",
    "project_metric = project_metric.append(AC)\n",
    "project_metric = project_metric.append(EV)\n",
    "project_metric"
   ]
  },
  {
   "cell_type": "markdown",
   "metadata": {},
   "source": [
    "### Calculate Earned Schedule"
   ]
  },
  {
   "cell_type": "code",
   "execution_count": null,
   "metadata": {},
   "outputs": [],
   "source": [
    "width_es = int(maxlongestpath+1)\n",
    "ES = pd.DataFrame(0, index=[\"Total ES\"], columns=range(width_es))\n",
    "ES = ES.astype(float)\n",
    "ES"
   ]
  },
  {
   "cell_type": "code",
   "execution_count": null,
   "metadata": {},
   "outputs": [],
   "source": [
    "longest_spi = int(maxlongestpath+1)\n",
    "\n",
    "for i in range(1,longest_spi,1):\n",
    "    EVvalue = project_metric.loc['Total EV'][i]\n",
    "    curPVvalue = project_metric.loc['Total PV'][i]\n",
    "    PVvaluemax = project_metric.loc['Total PV'][maxlongestpath]\n",
    "    \n",
    "    if EVvalue > PVvaluemax:\n",
    "        ES.loc['Total ES'][i] = longest_path\n",
    "    \n",
    "    else:\n",
    "    \n",
    "        for j in range(1,longest_spi,1):\n",
    "            PVvalue = project_metric.loc['Total PV'][j]\n",
    "            if EVvalue < PVvalue:\n",
    "                if j > 1:\n",
    "                    PVprev = project_metric.loc['Total PV'][j-1]\n",
    "                    colvalue = float(j)-1\n",
    "                    ESvalue = (colvalue) + ((EVvalue - PVprev)/(PVvalue-PVprev))\n",
    "                    ES.loc['Total ES'][i] = ESvalue\n",
    "                    break\n",
    "                else:\n",
    "                    PVprev = float(0)\n",
    "                    ESvalue = 0 + ((EVvalue - PVprev)/(PVvalue-PVprev))\n",
    "                    ES.loc['Total ES'][i] = ESvalue\n",
    "                \n",
    "project_metric = project_metric.append(ES)\n",
    "project_metric"
   ]
  },
  {
   "cell_type": "markdown",
   "metadata": {},
   "source": [
    "### Add SPI values"
   ]
  },
  {
   "cell_type": "code",
   "execution_count": null,
   "metadata": {},
   "outputs": [],
   "source": [
    "longest_spi = int(maxlongestpath+1)\n",
    "SPI = pd.DataFrame(float(0), index=[\"SPI_t\"], columns=range(longest_spi))\n",
    "SPI = SPI.astype(float)\n",
    "SPI\n",
    "\n",
    "for j in range(1,longest_spi,1):\n",
    "    if j == 26:\n",
    "        SPI.loc['SPI_t'][j] = float(1)\n",
    "    else:\n",
    "        ESvalue = float(project_metric.loc['Total ES'][j])\n",
    "        if ESvalue == 0:\n",
    "            SPIvalue = float(j) / (ESvalue+0.00000000000001)\n",
    "            SPI.loc['SPI_t'][j] = SPIvalue\n",
    "        else:\n",
    "            SPIvalue = ESvalue / float(j)\n",
    "            SPI.loc['SPI_t'][j] = SPIvalue\n",
    "\n",
    "project_metric = project_metric.append(SPI)\n",
    "project_metric"
   ]
  },
  {
   "cell_type": "code",
   "execution_count": null,
   "metadata": {},
   "outputs": [],
   "source": [
    "cols = ev_longestpath\n",
    "spi_finish = spi[spi.columns[:cols]]\n",
    "spi_finish"
   ]
  },
  {
   "cell_type": "code",
   "execution_count": null,
   "metadata": {},
   "outputs": [],
   "source": [
    "percinterval = ev_longestpath / 20\n",
    "percinterval"
   ]
  },
  {
   "cell_type": "markdown",
   "metadata": {},
   "source": [
    "### Calculate the 5% intervals"
   ]
  },
  {
   "cell_type": "code",
   "execution_count": null,
   "metadata": {},
   "outputs": [],
   "source": [
    "# Create a data frame where the final values can be added to\n",
    "Final_SPI = pd.DataFrame(float(0), index=[\"SPI_t\"], columns=range(1,20,1))\n",
    "\n",
    "# set the interval (longest_path for EV divided by 20, to create 5% intervals)\n",
    "interval = float(percinterval)\n",
    "\n",
    "for i in range(1,21,1):\n",
    "    interval_step = interval * float(i)\n",
    "    interval_step = round(interval_step, 3)\n",
    "    \n",
    "    RoundUp = math.ceil(interval_step)\n",
    "    RoundUpprev = RoundUp - 1\n",
    "    ratioToCalc = interval_step / RoundUp\n",
    "    \n",
    "    if RoundUp == ev_longestpath:\n",
    "        SPIvalue = spi_finish.loc['SPI_t'][RoundUp-1]\n",
    "        OldSPIvalue = spi_finish.loc['SPI_t'][RoundUp-2]\n",
    "        NewSPIvalue = OldSPIvalue + (SPIvalue - OldSPIvalue) * ((RoundUp-(RoundUpprev)) -(RoundUp-interval_step))\n",
    "    else:\n",
    "        SPIvalue = spi_finish.loc['SPI_t'][RoundUp]\n",
    "        OldSPIvalue = spi_finish.loc['SPI_t'][RoundUpprev]\n",
    "        NewSPIvalue = OldSPIvalue + (SPIvalue - OldSPIvalue) * ((RoundUp-(RoundUpprev)) -(RoundUp-interval_step))\n",
    "    \n",
    "    Final_SPI.loc['SPI_t',i] = NewSPIvalue\n",
    "\n",
    "Final_SPI"
   ]
  }
 ],
 "metadata": {
  "kernelspec": {
   "display_name": "Python 3",
   "language": "python",
   "name": "python3"
  },
  "language_info": {
   "codemirror_mode": {
    "name": "ipython",
    "version": 3
   },
   "file_extension": ".py",
   "mimetype": "text/x-python",
   "name": "python",
   "nbconvert_exporter": "python",
   "pygments_lexer": "ipython3",
   "version": "3.6.5"
  }
 },
 "nbformat": 4,
 "nbformat_minor": 2
}
