{
 "cells": [
  {
   "cell_type": "markdown",
   "metadata": {},
   "source": [
    "# Project Simulation Runs\n",
    "\n",
    "This notebook is used to create simulation runs on all scenarios as defined in the thesis. It uses the following notebooks:\n",
    "\n",
    "- ReadFiles\n",
    "- RunScenarios (1-10)\n",
    "\n",
    "Running those notebooks will be done from this notebook itself.\n",
    "\n",
    "Steps that will be executed in this notebook:\n",
    "\n",
    "1. For each selected file range the information will be extracted from the underlying text files\n",
    "2. Using this information for each project network structure a scenario will be run one-by-one\n",
    "3. The scenarios create an output file with the required SPI values"
   ]
  },
  {
   "cell_type": "markdown",
   "metadata": {},
   "source": [
    "## Load required packages"
   ]
  },
  {
   "cell_type": "code",
   "execution_count": 4,
   "metadata": {},
   "outputs": [],
   "source": [
    "import pandas as pd"
   ]
  },
  {
   "cell_type": "markdown",
   "metadata": {},
   "source": [
    "## Define the output file (empty)"
   ]
  },
  {
   "cell_type": "code",
   "execution_count": 5,
   "metadata": {},
   "outputs": [],
   "source": [
    "file_output = pd.DataFrame()"
   ]
  },
  {
   "cell_type": "markdown",
   "metadata": {},
   "source": [
    "## Run the simulation (depending on the parameters, this might take some time)\n",
    "\n",
    "The parameters that have to be set are:\n",
    "\n",
    "- How many files will be read --> _paramFiles\n",
    "- How many runs per scenario --> _paramRuns\n",
    "- Name of the particular set --> _paramSetName"
   ]
  },
  {
   "cell_type": "code",
   "execution_count": 6,
   "metadata": {},
   "outputs": [],
   "source": [
    "# Parameter to set the number of files that will be read in one run\n",
    "_paramFiles = 1\n",
    "\n",
    "# Parameter of how many runs per scenario are needed\n",
    "_paramRuns = 1\n",
    "\n",
    "# Name of the set that will be run\n",
    "_paramSetName = \"Set4.3\""
   ]
  },
  {
   "cell_type": "markdown",
   "metadata": {},
   "source": [
    "## Create a function to run all 10 scenarios"
   ]
  },
  {
   "cell_type": "code",
   "execution_count": 9,
   "metadata": {},
   "outputs": [],
   "source": [
    "def runSimulation(runs):\n",
    "    for yz in range(0,runs,1):\n",
    "        # Retrieve the project network information\n",
    "        %run ./Thesis_Copy-ReadPatterson.ipynb\n",
    "        # print the line of which simulation is running\n",
    "        print(Filename,\"| run:\",yz,\"| Scenario \" + str(x))\n",
    "        # Set the name as mentioned in the output file\n",
    "        renamevalue = str(setvalue) + str(Filename) + \"-scen\"+str(x)+\"-run_\" + str(yz)\n",
    "        # Run the specific scenario\n",
    "        RunName = \"Thesis_RunScenario\"+str(x)\n",
    "        %run ./RunName.ipynb\n",
    "        idx_rename = {'SPI_t':renamevalue}\n",
    "        Final_SPI = Final_SPI.rename(index=idx_rename)\n",
    "        file_output = file_output.append(Final_SPI)"
   ]
  },
  {
   "cell_type": "code",
   "execution_count": 10,
   "metadata": {},
   "outputs": [
    {
     "name": "stderr",
     "output_type": "stream",
     "text": [
      "ERROR:root:File `'./RunName.ipynb.py'` not found.\n"
     ]
    },
    {
     "name": "stdout",
     "output_type": "stream",
     "text": [
      "EV1.rcp | run: 0 | Scenario 1\n"
     ]
    },
    {
     "ename": "UnboundLocalError",
     "evalue": "local variable 'Final_SPI' referenced before assignment",
     "output_type": "error",
     "traceback": [
      "\u001b[1;31m---------------------------------------------------------------------------\u001b[0m",
      "\u001b[1;31mUnboundLocalError\u001b[0m                         Traceback (most recent call last)",
      "\u001b[1;32m<ipython-input-10-f0d585166b2c>\u001b[0m in \u001b[0;36m<module>\u001b[1;34m()\u001b[0m\n\u001b[0;32m     10\u001b[0m \u001b[1;33m\u001b[0m\u001b[0m\n\u001b[0;32m     11\u001b[0m     \u001b[1;32mfor\u001b[0m \u001b[0mx\u001b[0m \u001b[1;32min\u001b[0m \u001b[0mrange\u001b[0m\u001b[1;33m(\u001b[0m\u001b[1;36m1\u001b[0m\u001b[1;33m,\u001b[0m\u001b[1;36m11\u001b[0m\u001b[1;33m,\u001b[0m\u001b[1;36m1\u001b[0m\u001b[1;33m)\u001b[0m\u001b[1;33m:\u001b[0m\u001b[1;33m\u001b[0m\u001b[0m\n\u001b[1;32m---> 12\u001b[1;33m             \u001b[0mrunSimulation\u001b[0m\u001b[1;33m(\u001b[0m\u001b[0m_paramRuns\u001b[0m\u001b[1;33m)\u001b[0m\u001b[1;33m\u001b[0m\u001b[0m\n\u001b[0m",
      "\u001b[1;32m<ipython-input-9-613ae8914783>\u001b[0m in \u001b[0;36mrunSimulation\u001b[1;34m(runs)\u001b[0m\n\u001b[0;32m     11\u001b[0m         \u001b[0mget_ipython\u001b[0m\u001b[1;33m(\u001b[0m\u001b[1;33m)\u001b[0m\u001b[1;33m.\u001b[0m\u001b[0mrun_line_magic\u001b[0m\u001b[1;33m(\u001b[0m\u001b[1;34m'run'\u001b[0m\u001b[1;33m,\u001b[0m \u001b[1;34m'./RunName.ipynb'\u001b[0m\u001b[1;33m)\u001b[0m\u001b[1;33m\u001b[0m\u001b[0m\n\u001b[0;32m     12\u001b[0m         \u001b[0midx_rename\u001b[0m \u001b[1;33m=\u001b[0m \u001b[1;33m{\u001b[0m\u001b[1;34m'SPI_t'\u001b[0m\u001b[1;33m:\u001b[0m\u001b[0mrenamevalue\u001b[0m\u001b[1;33m}\u001b[0m\u001b[1;33m\u001b[0m\u001b[0m\n\u001b[1;32m---> 13\u001b[1;33m         \u001b[0mFinal_SPI\u001b[0m \u001b[1;33m=\u001b[0m \u001b[0mFinal_SPI\u001b[0m\u001b[1;33m.\u001b[0m\u001b[0mrename\u001b[0m\u001b[1;33m(\u001b[0m\u001b[0mindex\u001b[0m\u001b[1;33m=\u001b[0m\u001b[0midx_rename\u001b[0m\u001b[1;33m)\u001b[0m\u001b[1;33m\u001b[0m\u001b[0m\n\u001b[0m\u001b[0;32m     14\u001b[0m         \u001b[0mfile_output\u001b[0m \u001b[1;33m=\u001b[0m \u001b[0mfile_output\u001b[0m\u001b[1;33m.\u001b[0m\u001b[0mappend\u001b[0m\u001b[1;33m(\u001b[0m\u001b[0mFinal_SPI\u001b[0m\u001b[1;33m)\u001b[0m\u001b[1;33m\u001b[0m\u001b[0m\n",
      "\u001b[1;31mUnboundLocalError\u001b[0m: local variable 'Final_SPI' referenced before assignment"
     ]
    }
   ],
   "source": [
    "for k in range(1,int(_paramFiles + 1),1):\n",
    "    fileID = k\n",
    "    Filename = \"EV\" + str(fileID) + \".rcp\"\n",
    "    OpenFileName = open(Filename)\n",
    "    lines = [k for k in OpenFileName.readlines()]\n",
    "    MyFileName = pd.DataFrame(lines)\n",
    "    MyFileName.dropna(inplace = True)\n",
    "    MyFileName= MyFileName[0].str.split(expand = True)\n",
    "    setvalue = _paramSetName\n",
    "\n",
    "    for x in range(1,11,1):\n",
    "            runSimulation(_paramRuns)"
   ]
  },
  {
   "cell_type": "code",
   "execution_count": 3,
   "metadata": {},
   "outputs": [],
   "source": [
    "file_output.to_excel(\"thesis_simulationrun_set1.xlsx\")"
   ]
  },
  {
   "cell_type": "code",
   "execution_count": null,
   "metadata": {},
   "outputs": [],
   "source": []
  }
 ],
 "metadata": {
  "kernelspec": {
   "display_name": "Python 3",
   "language": "python",
   "name": "python3"
  },
  "language_info": {
   "codemirror_mode": {
    "name": "ipython",
    "version": 3
   },
   "file_extension": ".py",
   "mimetype": "text/x-python",
   "name": "python",
   "nbconvert_exporter": "python",
   "pygments_lexer": "ipython3",
   "version": "3.6.5"
  }
 },
 "nbformat": 4,
 "nbformat_minor": 2
}
