{
 "cells": [
  {
   "cell_type": "markdown",
   "metadata": {},
   "source": [
    "# Run Simulations\n",
    "\n",
    "Copyright 2020, Thabor WALBEEK\n",
    "\n",
    "This notebook includes the detailed run, as described in the Master dissertation (from Chapter 4: Research Methodology). It processes all the data files, extracts the information and preprares the data for further processing in the Modeling Phase (see Notebook: xxxx)"
   ]
  },
  {
   "cell_type": "markdown",
   "metadata": {},
   "source": [
    "## Introduction\n",
    "\n",
    "This notebook is used to create simulation runs on all scenarios as defined in the thesis. It uses the following notebooks:\n",
    "\n",
    "- ReadFiles\n",
    "- RunScenarios (1-10)\n",
    "\n",
    "Running those notebooks will be done from this notebook itself.\n",
    "\n",
    "Steps that will be executed in this notebook:\n",
    "\n",
    "1. For each selected file range the information will be extracted from the underlying text files\n",
    "2. Using this information for each project network structure a scenario will be run one-by-one\n",
    "3. The scenarios create an output file with the required SPI values"
   ]
  },
  {
   "cell_type": "markdown",
   "metadata": {},
   "source": [
    "## Set up Environment\n",
    "\n",
    "The first step in a notebook is to prepare the environment by loading any required packages, setting paramerters and variables, etc."
   ]
  },
  {
   "cell_type": "code",
   "execution_count": null,
   "metadata": {},
   "outputs": [],
   "source": [
    "import pandas as pd # package required to use data frames\n",
    "file_output = pd.DataFrame() # create an empty data frame to insert simulated data\n",
    "\n",
    "# Set parameters\n",
    "_paramFiles = 1 # number of files to import\n",
    "_paramRuns = 1 # number of runs per scenario\n",
    "_paramSetName = \"Set4.3\" # set name to use for saving the data"
   ]
  },
  {
   "cell_type": "markdown",
   "metadata": {},
   "source": [
    "## Run Simulations"
   ]
  },
  {
   "cell_type": "markdown",
   "metadata": {},
   "source": [
    "### Create a function to run the scenarios"
   ]
  },
  {
   "cell_type": "code",
   "execution_count": null,
   "metadata": {},
   "outputs": [],
   "source": [
    "def RunScenario(scenario):\n",
    "    global Final_SPI, file_output\n",
    "    for yz in range(0,_paramRuns,1):\n",
    "        %run ./Thesis_Copy-ReadPatterson.ipynb\n",
    "        print(Filename,\"| run:\",yz,\"| Scenario \", scenario)\n",
    "        renamevalue = str(setvalue) + str(Filename) + \"-scen\" + str(scenario)+\"-run_\" + str(yz)\n",
    "        %run ./RunScenarios.ipynb\n",
    "        idx_rename = {'SPI_t':renamevalue}\n",
    "        Final_SPI = Final_SPI.rename(index=idx_rename)\n",
    "        file_output = file_output.append(Final_SPI)\n",
    "        return Final_SPI, file_output"
   ]
  },
  {
   "cell_type": "code",
   "execution_count": null,
   "metadata": {},
   "outputs": [],
   "source": [
    "for k in range(1,int(_paramFiles + 1),1):\n",
    "    fileID = k\n",
    "    Filename = \"EV\" + str(fileID) + \".rcp\"\n",
    "    OpenFileName = open(Filename)\n",
    "    lines = [k for k in OpenFileName.readlines()]\n",
    "    MyFileName = pd.DataFrame(lines)\n",
    "    MyFileName.dropna(inplace = True)\n",
    "    MyFileName= MyFileName[0].str.split(expand = True)\n",
    "    setvalue = _paramSetName        \n",
    "    \n",
    "    for run in range(1,11,1): # loop through all scenarios\n",
    "        RunScenario(run)"
   ]
  },
  {
   "cell_type": "code",
   "execution_count": null,
   "metadata": {},
   "outputs": [],
   "source": [
    "file_output.to_excel(\"SimulationRunScenarios.xlsx\")"
   ]
  }
 ],
 "metadata": {
  "kernelspec": {
   "display_name": "Python 3",
   "language": "python",
   "name": "python3"
  },
  "language_info": {
   "codemirror_mode": {
    "name": "ipython",
    "version": 3
   },
   "file_extension": ".py",
   "mimetype": "text/x-python",
   "name": "python",
   "nbconvert_exporter": "python",
   "pygments_lexer": "ipython3",
   "version": "3.6.5"
  }
 },
 "nbformat": 4,
 "nbformat_minor": 2
}
